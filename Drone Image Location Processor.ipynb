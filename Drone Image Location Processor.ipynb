{
 "cells": [
  {
   "cell_type": "code",
   "execution_count": 2,
   "id": "51dc6802",
   "metadata": {},
   "outputs": [
    {
     "name": "stdout",
     "output_type": "stream",
     "text": [
      "Defaulting to user installation because normal site-packages is not writeable\n",
      "Collecting exif\n",
      "  Downloading exif-1.6.0-py3-none-any.whl.metadata (5.2 kB)\n",
      "Requirement already satisfied: tqdm in c:\\program files\\arcgis\\pro\\bin\\python\\envs\\arcgispro-py3\\lib\\site-packages (4.65.0)\n",
      "Collecting plum-py<2.0.0,>=0.5.0 (from exif)\n",
      "  Downloading plum_py-0.8.7-py3-none-any.whl.metadata (1.5 kB)\n",
      "Requirement already satisfied: colorama in c:\\program files\\arcgis\\pro\\bin\\python\\envs\\arcgispro-py3\\lib\\site-packages (from tqdm) (0.4.6)\n",
      "Downloading exif-1.6.0-py3-none-any.whl (30 kB)\n",
      "Downloading plum_py-0.8.7-py3-none-any.whl (69 kB)\n",
      "   ---------------------------------------- 70.0/70.0 kB 1.3 MB/s eta 0:00:00\n",
      "Installing collected packages: plum-py, exif\n",
      "Successfully installed exif-1.6.0 plum-py-0.8.7\n",
      "Note: you may need to restart the kernel to use updated packages.\n"
     ]
    }
   ],
   "source": [
    "pip install exif tqdm"
   ]
  },
  {
   "cell_type": "code",
   "execution_count": 1,
   "id": "b5cb5942",
   "metadata": {},
   "outputs": [
    {
     "name": "stderr",
     "output_type": "stream",
     "text": [
      "Processing Images: 100%|███████████████████████████████████████████████████████████████| 49/49 [00:13<00:00,  3.57it/s]"
     ]
    },
    {
     "name": "stdout",
     "output_type": "stream",
     "text": [
      "CSV file has been created at C:\\Users\\sbrauer\\Downloads\\Dillworth_Images.csv\n"
     ]
    },
    {
     "name": "stderr",
     "output_type": "stream",
     "text": [
      "\n"
     ]
    }
   ],
   "source": [
    "'''READ ME:\n",
    "\n",
    "This is a Python Jupyter Notebook desinged to run the location, time, and elevation extraction of drone images for projects. The output is saved to a\n",
    "csv which can be added to an experience builder application. Run the pip install exif if errors come up and restart the \n",
    "kernel as needed.\n",
    "\n",
    "Note, if the csv file already exists, the tool will fail. Please make sure to close any files being called to write on \n",
    "before running.\n",
    "\n",
    "Sebastian Brauer - 2024/06/11\n",
    "'''\n",
    "\n",
    "image_folder = r'P:\\Data\\Drone Videos\\MnDOT-D4\\Dillworth_Moorhead\\Existing\\Drone Images' # REQUIRED USER INPUT needed to know where images are\n",
    "output_csv = r'C:\\Users\\sbrauer\\Downloads\\Dillworth_Images.csv' # REQUIRED USER INPUT output save location\n",
    "input_sharepoint_link = 'https://isthmuseng.sharepoint.com/sites/000-018/Shared%20Documents/Drone%20Images/Dillworth/Drone%20Images/' # REQUIRED USER INPUT location on sharepoint where the images are stored\n",
    "\n",
    "import os\n",
    "import csv\n",
    "from exif import Image\n",
    "from tqdm import tqdm\n",
    "\n",
    "# Function to get EXIF data from an image\n",
    "def get_exif_data(image_path):\n",
    "    with open(image_path, 'rb') as image_file:\n",
    "        image = Image(image_file)\n",
    "        if image.has_exif:\n",
    "            return {\n",
    "                'file_name': os.path.basename(image_path),\n",
    "                'latitude': getattr(image, 'gps_latitude', None),\n",
    "                'latitude_ref': getattr(image, 'gps_latitude_ref', None),\n",
    "                'longitude': getattr(image, 'gps_longitude', None),\n",
    "                'longitude_ref': getattr(image, 'gps_longitude_ref', None),\n",
    "                'capture_time': getattr(image, 'datetime_original', None),\n",
    "                'elevation': getattr(image, 'gps_altitude', None)\n",
    "            }\n",
    "        else:\n",
    "            return None\n",
    "\n",
    "# Convert GPS coordinates to decimal degrees\n",
    "def convert_to_degrees(gps_coord, ref):\n",
    "    if gps_coord:\n",
    "        d, m, s = gps_coord\n",
    "        degrees = d + (m / 60.0) + (s / 3600.0)\n",
    "        if ref in ['S', 'W']:\n",
    "            degrees = -degrees\n",
    "        return degrees\n",
    "    return None\n",
    "\n",
    "# Create CSV file with header\n",
    "with open(output_csv, mode='w', newline='') as file:\n",
    "    writer = csv.writer(file)\n",
    "    writer.writerow(['Image Number', 'Latitude', 'Longitude', 'Image Capture Time', 'Elevation', 'Image Link'])\n",
    "    \n",
    "    image_names = os.listdir(image_folder)\n",
    "\n",
    "    # Iterate through images in the folder\n",
    "    for idx, image_name in enumerate(tqdm(image_names, desc=\"Processing Images\")):\n",
    "        image_path = os.path.join(image_folder, image_name)\n",
    "        exif_data = get_exif_data(image_path)\n",
    "        image_link = input_sharepoint_link + image_name\n",
    "\n",
    "        if exif_data:\n",
    "            latitude = convert_to_degrees(exif_data['latitude'], exif_data['latitude_ref'])\n",
    "            longitude = convert_to_degrees(exif_data['longitude'], exif_data['longitude_ref'])\n",
    "            capture_time = exif_data['capture_time']\n",
    "            elevation = exif_data['elevation']\n",
    "\n",
    "            # Write data to CSV\n",
    "            writer.writerow([image_name, latitude, longitude, capture_time, elevation, image_link])\n",
    "\n",
    "'''\n",
    "If you get the following error: ModuleNotFoundError: No module named 'exif'. Then run the cell below first by clicking the run button again. Then click the restart button next the run button.\n",
    "'''\n",
    "            \n",
    "print(f\"CSV file has been created at {output_csv}\")"
   ]
  },
  {
   "cell_type": "code",
   "execution_count": null,
   "id": "3fb89084",
   "metadata": {},
   "outputs": [],
   "source": []
  }
 ],
 "metadata": {
  "kernelspec": {
   "display_name": "Python 3 (ipykernel)",
   "language": "python",
   "name": "python3"
  },
  "language_info": {
   "codemirror_mode": {
    "name": "ipython",
    "version": 3
   },
   "file_extension": ".py",
   "mimetype": "text/x-python",
   "name": "python",
   "nbconvert_exporter": "python",
   "pygments_lexer": "ipython3",
   "version": "3.11.8"
  }
 },
 "nbformat": 4,
 "nbformat_minor": 5
}
